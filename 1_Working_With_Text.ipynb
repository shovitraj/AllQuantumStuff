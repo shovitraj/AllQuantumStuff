{
  "nbformat": 4,
  "nbformat_minor": 0,
  "metadata": {
    "colab": {
      "name": "1-Working With Text.ipynb",
      "provenance": [],
      "collapsed_sections": [
        "m28opucNls0Z",
        "ZeyYH812mCnV"
      ],
      "authorship_tag": "ABX9TyOKRqDAfDtWzd32rsMR4y7K",
      "include_colab_link": true
    },
    "kernelspec": {
      "name": "python3",
      "display_name": "Python 3"
    },
    "language_info": {
      "name": "python"
    }
  },
  "cells": [
    {
      "cell_type": "markdown",
      "metadata": {
        "id": "view-in-github",
        "colab_type": "text"
      },
      "source": [
        "<a href=\"https://colab.research.google.com/github/shovitraj/AllQuantumStuff/blob/main/1_Working_With_Text.ipynb\" target=\"_parent\"><img src=\"https://colab.research.google.com/assets/colab-badge.svg\" alt=\"Open In Colab\"/></a>"
      ]
    },
    {
      "cell_type": "code",
      "metadata": {
        "id": "nBVrIzicEYkp"
      },
      "source": [
        "# Working With Text"
      ],
      "execution_count": null,
      "outputs": []
    },
    {
      "cell_type": "markdown",
      "metadata": {
        "id": "3aHMYkFv_Qug"
      },
      "source": [
        "# Working with Text"
      ]
    },
    {
      "cell_type": "code",
      "metadata": {
        "id": "pBkIoXPC_YpK"
      },
      "source": [
        "# from google.colab import drive\n",
        "\n",
        "# drive.mount('/content/drive')\n"
      ],
      "execution_count": null,
      "outputs": []
    },
    {
      "cell_type": "code",
      "metadata": {
        "id": "FQ9JGhEZDXgh"
      },
      "source": [
        "# PATH = '/content/drive/MyDrive/NLPWorkShopANPAOct2021/'"
      ],
      "execution_count": null,
      "outputs": []
    },
    {
      "cell_type": "markdown",
      "metadata": {
        "id": "fIu9gH9MEdW6"
      },
      "source": [
        "### Text data is growing fast!\n",
        "\n",
        "* Data continues to grow exponentially\n",
        "** Estimated to be 2.5 Exabytes(2.5 Million TB) a \n",
        "** Grow to 40 Zetabytes (40 billion TB) by 2020 (50 times of 2021)\n",
        "\n",
        "* Approximately 80% of all the data is estimated to be unstructured, text-rich data\n",
        "\n",
        "\n",
        "**\n",
        "\n"
      ]
    },
    {
      "cell_type": "markdown",
      "metadata": {
        "id": "WzsDAxJTAKcC"
      },
      "source": [
        "### So, what can be done with text?\n",
        "\n",
        "* Parse text\n",
        "* Find/Identify/Extract relevant information from the text\n",
        "* Classify text documents\n",
        "* Search for relevant text documents\n",
        "* Sentiment analysis\n",
        "* Topic modeling\n",
        "* ***\n",
        "\n"
      ]
    },
    {
      "cell_type": "markdown",
      "metadata": {
        "id": "D-0H7GjqNB4g"
      },
      "source": [
        "# Natural Language Processing\n",
        "\n",
        "* Any computation, manipulation of natural language\n",
        "\n",
        "## Natural Language Involves\n",
        "\n",
        "* new words get added\n",
        "* old words lose popularity\n",
        "* meaning of words change\n",
        "* language rules themselves may change\n",
        "\n",
        "## NLP Tasks:\n",
        "\n",
        "* Counting words, counting frequency of words\n",
        "* Finding sentence boundaries\n",
        "* Part of speech tagging\n",
        "* Parsing the sentence structure\n",
        "* Identifying semantic role\n",
        "* Identifying entities in a sentence\n",
        "* Finding which pronoun rerers to which entity\n",
        "\n"
      ]
    },
    {
      "cell_type": "code",
      "metadata": {
        "id": "nXHq3hkPEhgz"
      },
      "source": [
        "text1 = \"Ethics are built right into the ideals and objectives of the United Nations \"\n",
        "\n",
        "# The length of text1\n",
        "\n"
      ],
      "execution_count": null,
      "outputs": []
    },
    {
      "cell_type": "code",
      "metadata": {
        "id": "gOBkEnVji3sT"
      },
      "source": [
        ""
      ],
      "execution_count": null,
      "outputs": []
    },
    {
      "cell_type": "code",
      "metadata": {
        "id": "6wwjWHdBElHP"
      },
      "source": [
        "# Return a list of the words in text2, separating by ' '.\n",
        "\n",
        "\n",
        "\n"
      ],
      "execution_count": null,
      "outputs": []
    },
    {
      "cell_type": "code",
      "metadata": {
        "id": "NG6-Tlk6EqaJ"
      },
      "source": [
        ""
      ],
      "execution_count": null,
      "outputs": []
    },
    {
      "cell_type": "markdown",
      "metadata": {
        "id": "hNQEnysgEuPF"
      },
      "source": [
        "### List comprehension allows us to find specific words:"
      ]
    },
    {
      "cell_type": "code",
      "metadata": {
        "id": "Ai1LMtuOErrY"
      },
      "source": [
        "# Words that are greater than 3 letters long in text2\n"
      ],
      "execution_count": null,
      "outputs": []
    },
    {
      "cell_type": "code",
      "metadata": {
        "id": "MR33TtIcE4OL"
      },
      "source": [
        " # Capitalized words in text2"
      ],
      "execution_count": null,
      "outputs": []
    },
    {
      "cell_type": "code",
      "metadata": {
        "id": "4G45eqlFjwFv"
      },
      "source": [
        ""
      ],
      "execution_count": null,
      "outputs": []
    },
    {
      "cell_type": "code",
      "metadata": {
        "id": "uqhh_sGjF-qf"
      },
      "source": [
        "text3 = 'To be or not to be'\n"
      ],
      "execution_count": null,
      "outputs": []
    },
    {
      "cell_type": "code",
      "metadata": {
        "id": "oYNJTeZEGFdY"
      },
      "source": [
        ""
      ],
      "execution_count": null,
      "outputs": []
    },
    {
      "cell_type": "code",
      "metadata": {
        "id": "2FzmmSi5GJfk"
      },
      "source": [
        "\n"
      ],
      "execution_count": null,
      "outputs": []
    },
    {
      "cell_type": "code",
      "metadata": {
        "id": "HUtODSZhGMRo"
      },
      "source": [
        "# .lower converts the string to lowercase.\n"
      ],
      "execution_count": null,
      "outputs": []
    },
    {
      "cell_type": "code",
      "metadata": {
        "id": "I8UMmrAiGPu0"
      },
      "source": [
        "text5 = '\"Ethics are built right into the ideals and objectives of the United Nations\" \\\n",
        "#UNSG @ NY Society for Ethical Culture bit.ly/2guVelr'\n"
      ],
      "execution_count": null,
      "outputs": []
    },
    {
      "cell_type": "code",
      "metadata": {
        "id": "UUo0t8E9GTJF"
      },
      "source": [
        ""
      ],
      "execution_count": null,
      "outputs": []
    },
    {
      "cell_type": "code",
      "metadata": {
        "id": "xyNEm8NWGYEJ"
      },
      "source": [
        ""
      ],
      "execution_count": null,
      "outputs": []
    },
    {
      "cell_type": "markdown",
      "metadata": {
        "id": "kGLTiqJ6G80B"
      },
      "source": [
        "# NLP Basics: Learning how to use regular expressions(REGEX)\n",
        "\n",
        "### Using regular expressions in Python\n",
        "\n",
        "Python's `re` package is the most commonly used regex resource. More details can be found [here](https://docs.python.org/3/library/re.html).\n",
        "\n",
        "We can use regular expressions to help us with more complex parsing.\n",
        "\n",
        "For example '@[A-Za-z0-9_]+' will return all words that:\n",
        "\n",
        "* start with '@' and are followed by at least one:\n",
        "* capital letter ('A-Z')\n",
        "* lowercase letter ('a-z')\n",
        "* number ('0-9')\n",
        "* or underscore ('_')\n",
        "\n",
        "![Meta Characters](https://drive.google.com/uc?id=1mPwKJUQI0KsZ7h3T7wCWQDxRmYbb1M0f)\n",
        "\n",
        "![MetaSymbols](https://drive.google.com/uc?id=1amUCUTF_C6YM08iXIPm35yFdWajLdEdx)\n",
        "\n",
        "![MetaRepetitions](https://drive.google.com/uc?id=13CSdKKBOXNKTQXoutG0PUMaX0DwFXwBW)\n",
        "\n",
        "\n",
        "\n",
        "\n",
        "\n",
        "\n"
      ]
    },
    {
      "cell_type": "code",
      "metadata": {
        "id": "ARnSIzc3GbL8"
      },
      "source": [
        "\n",
        "text7 = '@UN @UN_Women \"Ethics are built right into the ideals and objectives of the United Nations\" \\\n",
        "#UNSG @ NY Society for Ethical Culture bit.ly/2guVelr'\n"
      ],
      "execution_count": null,
      "outputs": []
    },
    {
      "cell_type": "code",
      "metadata": {
        "id": "EqsEHI5NGlRc"
      },
      "source": [
        "\n",
        "import re \n",
        "\n"
      ],
      "execution_count": null,
      "outputs": []
    },
    {
      "cell_type": "code",
      "metadata": {
        "id": "CKNjqCJ0HG8C"
      },
      "source": [
        ""
      ],
      "execution_count": null,
      "outputs": []
    },
    {
      "cell_type": "code",
      "metadata": {
        "id": "3NzRZOZ2kKeh"
      },
      "source": [
        "\n",
        "re_test = 'This is a made up string to test 2 different regex methods'\n",
        "re_test_messy = 'This      is a made up     string to test 2    different regex methods'\n",
        "re_test_messy1 = 'This-is-a-made/up.string*to>>>>test----2\"\"\"\"\"\"different~regex-methods'"
      ],
      "execution_count": null,
      "outputs": []
    },
    {
      "cell_type": "markdown",
      "metadata": {
        "id": "mK8BcNsDkuCk"
      },
      "source": [
        "### Splitting a sentence into a list of words"
      ]
    },
    {
      "cell_type": "code",
      "metadata": {
        "id": "iQvADqPbkrqL"
      },
      "source": [
        ""
      ],
      "execution_count": null,
      "outputs": []
    },
    {
      "cell_type": "code",
      "metadata": {
        "id": "miPyjI7qlWu7"
      },
      "source": [
        ""
      ],
      "execution_count": null,
      "outputs": []
    },
    {
      "cell_type": "code",
      "metadata": {
        "id": "MfKSbqJ5lbC4"
      },
      "source": [
        ""
      ],
      "execution_count": null,
      "outputs": []
    },
    {
      "cell_type": "code",
      "metadata": {
        "id": "Jgdc8-Wclb8n"
      },
      "source": [
        ""
      ],
      "execution_count": null,
      "outputs": []
    },
    {
      "cell_type": "code",
      "metadata": {
        "id": "ph_Ov8SJldw7"
      },
      "source": [
        ""
      ],
      "execution_count": null,
      "outputs": []
    },
    {
      "cell_type": "code",
      "metadata": {
        "id": "66ai8-kVlgWg"
      },
      "source": [
        ""
      ],
      "execution_count": null,
      "outputs": []
    },
    {
      "cell_type": "code",
      "metadata": {
        "id": "2Hb9ZW1qliAM"
      },
      "source": [
        ""
      ],
      "execution_count": null,
      "outputs": []
    },
    {
      "cell_type": "code",
      "metadata": {
        "id": "3t98wHoCljhc"
      },
      "source": [
        ""
      ],
      "execution_count": null,
      "outputs": []
    },
    {
      "cell_type": "code",
      "metadata": {
        "id": "VN4j5tOPllg5"
      },
      "source": [
        ""
      ],
      "execution_count": null,
      "outputs": []
    },
    {
      "cell_type": "code",
      "metadata": {
        "id": "4fdMuFe4lrQK"
      },
      "source": [
        ""
      ],
      "execution_count": null,
      "outputs": []
    },
    {
      "cell_type": "markdown",
      "metadata": {
        "id": "m28opucNls0Z"
      },
      "source": [
        "### Replacing a specific string"
      ]
    },
    {
      "cell_type": "code",
      "metadata": {
        "id": "A9E3ZUBklwqo"
      },
      "source": [
        "pep8_test = 'I try to follow PEP8 guidelines'\n",
        "pep7_test = 'I try to follow PEP7 guidelines'\n",
        "peep8_test = 'I try to follow 8PEEP8 guidelines'"
      ],
      "execution_count": null,
      "outputs": []
    },
    {
      "cell_type": "code",
      "metadata": {
        "colab": {
          "base_uri": "https://localhost:8080/"
        },
        "id": "B5GAWtNClzCh",
        "outputId": "4ea90676-939f-42d2-977a-320fdc384fea"
      },
      "source": [
        "re.findall('[a-z]+', pep8_test)"
      ],
      "execution_count": null,
      "outputs": [
        {
          "output_type": "execute_result",
          "data": {
            "text/plain": [
              "['try', 'to', 'follow', 'guidelines']"
            ]
          },
          "metadata": {},
          "execution_count": 43
        }
      ]
    },
    {
      "cell_type": "code",
      "metadata": {
        "colab": {
          "base_uri": "https://localhost:8080/"
        },
        "id": "wwS4ghWtl1Or",
        "outputId": "00367ff2-f893-4be5-8e51-ceb8f772de34"
      },
      "source": [
        "re.findall('[A-Z]+[0-9]+', peep8_test)"
      ],
      "execution_count": null,
      "outputs": [
        {
          "output_type": "execute_result",
          "data": {
            "text/plain": [
              "['PEEP8']"
            ]
          },
          "metadata": {},
          "execution_count": 44
        }
      ]
    },
    {
      "cell_type": "code",
      "metadata": {
        "colab": {
          "base_uri": "https://localhost:8080/"
        },
        "id": "qjAaR5hhl2_-",
        "outputId": "adfc3b0a-b24c-4bc3-c511-cd607a327bae"
      },
      "source": [
        "re.findall('[0-9]+[A-Z]+[0-9]+', peep8_test)"
      ],
      "execution_count": null,
      "outputs": [
        {
          "output_type": "execute_result",
          "data": {
            "text/plain": [
              "['8PEEP8']"
            ]
          },
          "metadata": {},
          "execution_count": 45
        }
      ]
    },
    {
      "cell_type": "code",
      "metadata": {
        "colab": {
          "base_uri": "https://localhost:8080/"
        },
        "id": "jIQCxI3Ql7uf",
        "outputId": "5733c802-24aa-4784-c87e-243a9ef78aa4"
      },
      "source": [
        "re.sub('[A-Z]+[0-9]+', 'PEP8 Python Styleguide', peep8_test)"
      ],
      "execution_count": null,
      "outputs": [
        {
          "output_type": "execute_result",
          "data": {
            "application/vnd.google.colaboratory.intrinsic+json": {
              "type": "string"
            },
            "text/plain": [
              "'I try to follow 8PEP8 Python Styleguide guidelines'"
            ]
          },
          "metadata": {},
          "execution_count": 46
        }
      ]
    },
    {
      "cell_type": "markdown",
      "metadata": {
        "id": "ZeyYH812mCnV"
      },
      "source": [
        "### Other examples of regex methods\n",
        "\n",
        "- re.search()\n",
        "- re.match()\n",
        "- re.fullmatch()\n",
        "- re.finditer()\n",
        "- re.escape()"
      ]
    },
    {
      "cell_type": "code",
      "metadata": {
        "id": "4j4EgTsUl97L"
      },
      "source": [
        "texts = [\"(800)-800-1111 call for free goodies\",\n",
        "         \"(800) 800-1111 call for free goodies\",\n",
        "         \"8008001111 call for free goodies\",\n",
        "         \"800-800-1111 call for free goodies\",\n",
        "        ]"
      ],
      "execution_count": null,
      "outputs": []
    },
    {
      "cell_type": "code",
      "metadata": {
        "colab": {
          "base_uri": "https://localhost:8080/"
        },
        "id": "gHw-kBZWmMUM",
        "outputId": "10b3e409-e3e0-4a2c-a116-fbccfa3d99ef"
      },
      "source": [
        "for text in texts:\n",
        "  phones = re.findall('\\(\\d{3}\\D{0,3}\\d{3}\\D{0,3}\\d{4}', text)\n",
        "  print(text, phones)"
      ],
      "execution_count": null,
      "outputs": [
        {
          "output_type": "stream",
          "name": "stdout",
          "text": [
            "(800)-800-1111 call for free goodies ['(800)-800-1111']\n",
            "(800) 800-1111 call for free goodies ['(800) 800-1111']\n",
            "8008001111 call for free goodies []\n",
            "800-800-1111 call for free goodies []\n"
          ]
        }
      ]
    },
    {
      "cell_type": "code",
      "metadata": {
        "colab": {
          "base_uri": "https://localhost:8080/"
        },
        "id": "F8ZGZn6MmY97",
        "outputId": "ce60177b-3809-4a5f-fedc-5e9cc844dad7"
      },
      "source": [
        "for text in texts:\n",
        "  phone_regex = re.compile(r\"(?:\\+ *)?\\d[\\d\\- ]{7,}\\d\")\n",
        "  phone = phone_regex.findall(text)\n",
        "  print(text, phone)"
      ],
      "execution_count": null,
      "outputs": [
        {
          "output_type": "stream",
          "name": "stdout",
          "text": [
            "(800)-800-1111 call for free goodies []\n",
            "(800) 800-1111 call for free goodies []\n",
            "8008001111 call for free goodies ['8008001111']\n",
            "800-800-1111 call for free goodies ['800-800-1111']\n"
          ]
        }
      ]
    },
    {
      "cell_type": "markdown",
      "metadata": {
        "id": "oR4uvXRCm4Dt"
      },
      "source": [
        "# Working with Text Data in pandas"
      ]
    },
    {
      "cell_type": "code",
      "metadata": {
        "colab": {
          "base_uri": "https://localhost:8080/",
          "height": 206
        },
        "id": "joyy4nOVmljT",
        "outputId": "336bed71-a138-42df-bbe3-f29b84a421c7"
      },
      "source": [
        "import pandas as pd\n",
        "\n",
        "time_sentences = [\"Monday: The doctor's appointment is at 2:45pm.\", \n",
        "                  \"Tuesday: The dentist's appointment is at 11:30 am.\",\n",
        "                  \"Wednesday: At 7:00pm, there is a basketball game!\",\n",
        "                  \"Thursday: Be back home by 11:15 pm at the latest.\",\n",
        "                  \"Friday: Take the train at 08:10 am, arrive at 09:00am.\"]\n",
        "\n",
        "df = pd.DataFrame(time_sentences, columns=['text'])\n",
        "df"
      ],
      "execution_count": null,
      "outputs": [
        {
          "output_type": "execute_result",
          "data": {
            "text/html": [
              "<div>\n",
              "<style scoped>\n",
              "    .dataframe tbody tr th:only-of-type {\n",
              "        vertical-align: middle;\n",
              "    }\n",
              "\n",
              "    .dataframe tbody tr th {\n",
              "        vertical-align: top;\n",
              "    }\n",
              "\n",
              "    .dataframe thead th {\n",
              "        text-align: right;\n",
              "    }\n",
              "</style>\n",
              "<table border=\"1\" class=\"dataframe\">\n",
              "  <thead>\n",
              "    <tr style=\"text-align: right;\">\n",
              "      <th></th>\n",
              "      <th>text</th>\n",
              "    </tr>\n",
              "  </thead>\n",
              "  <tbody>\n",
              "    <tr>\n",
              "      <th>0</th>\n",
              "      <td>Monday: The doctor's appointment is at 2:45pm.</td>\n",
              "    </tr>\n",
              "    <tr>\n",
              "      <th>1</th>\n",
              "      <td>Tuesday: The dentist's appointment is at 11:30...</td>\n",
              "    </tr>\n",
              "    <tr>\n",
              "      <th>2</th>\n",
              "      <td>Wednesday: At 7:00pm, there is a basketball game!</td>\n",
              "    </tr>\n",
              "    <tr>\n",
              "      <th>3</th>\n",
              "      <td>Thursday: Be back home by 11:15 pm at the latest.</td>\n",
              "    </tr>\n",
              "    <tr>\n",
              "      <th>4</th>\n",
              "      <td>Friday: Take the train at 08:10 am, arrive at ...</td>\n",
              "    </tr>\n",
              "  </tbody>\n",
              "</table>\n",
              "</div>"
            ],
            "text/plain": [
              "                                                text\n",
              "0     Monday: The doctor's appointment is at 2:45pm.\n",
              "1  Tuesday: The dentist's appointment is at 11:30...\n",
              "2  Wednesday: At 7:00pm, there is a basketball game!\n",
              "3  Thursday: Be back home by 11:15 pm at the latest.\n",
              "4  Friday: Take the train at 08:10 am, arrive at ..."
            ]
          },
          "metadata": {},
          "execution_count": 50
        }
      ]
    },
    {
      "cell_type": "code",
      "metadata": {
        "colab": {
          "base_uri": "https://localhost:8080/",
          "height": 35
        },
        "id": "-38A5ZYDoo06",
        "outputId": "41d016bc-d36a-4bf2-f441-8291ee4381cd"
      },
      "source": [
        "import string\n",
        "string.punctuation"
      ],
      "execution_count": null,
      "outputs": [
        {
          "output_type": "execute_result",
          "data": {
            "application/vnd.google.colaboratory.intrinsic+json": {
              "type": "string"
            },
            "text/plain": [
              "'!\"#$%&\\'()*+,-./:;<=>?@[\\\\]^_`{|}~'"
            ]
          },
          "metadata": {},
          "execution_count": 51
        }
      ]
    },
    {
      "cell_type": "markdown",
      "metadata": {
        "id": "WA8wcfaxooOo"
      },
      "source": [
        ""
      ]
    },
    {
      "cell_type": "code",
      "metadata": {
        "colab": {
          "base_uri": "https://localhost:8080/"
        },
        "id": "3D5Abkham8EC",
        "outputId": "2640fa37-018f-474e-8aa3-b0864fc69362"
      },
      "source": [
        "tweet = \"@nltk Text analysis is awesome! #regex #pandas #python\"\n",
        "\n",
        "print([word for word in tweet.split() if word.startswith('#')])"
      ],
      "execution_count": null,
      "outputs": [
        {
          "output_type": "stream",
          "name": "stdout",
          "text": [
            "['#regex', '#pandas', '#python']\n"
          ]
        }
      ]
    },
    {
      "cell_type": "code",
      "metadata": {
        "id": "v2IHnxnbm-yb"
      },
      "source": [
        "# find the number of characters for each string in df['text']\n"
      ],
      "execution_count": null,
      "outputs": []
    },
    {
      "cell_type": "code",
      "metadata": {
        "colab": {
          "base_uri": "https://localhost:8080/",
          "height": 206
        },
        "id": "A2k2eG1dnB5u",
        "outputId": "2a97247e-0fb2-4a96-958a-b7d15a2e2b46"
      },
      "source": [
        "df.head()"
      ],
      "execution_count": null,
      "outputs": [
        {
          "output_type": "execute_result",
          "data": {
            "text/html": [
              "<div>\n",
              "<style scoped>\n",
              "    .dataframe tbody tr th:only-of-type {\n",
              "        vertical-align: middle;\n",
              "    }\n",
              "\n",
              "    .dataframe tbody tr th {\n",
              "        vertical-align: top;\n",
              "    }\n",
              "\n",
              "    .dataframe thead th {\n",
              "        text-align: right;\n",
              "    }\n",
              "</style>\n",
              "<table border=\"1\" class=\"dataframe\">\n",
              "  <thead>\n",
              "    <tr style=\"text-align: right;\">\n",
              "      <th></th>\n",
              "      <th>text</th>\n",
              "    </tr>\n",
              "  </thead>\n",
              "  <tbody>\n",
              "    <tr>\n",
              "      <th>0</th>\n",
              "      <td>Monday: The doctor's appointment is at 2:45pm.</td>\n",
              "    </tr>\n",
              "    <tr>\n",
              "      <th>1</th>\n",
              "      <td>Tuesday: The dentist's appointment is at 11:30...</td>\n",
              "    </tr>\n",
              "    <tr>\n",
              "      <th>2</th>\n",
              "      <td>Wednesday: At 7:00pm, there is a basketball game!</td>\n",
              "    </tr>\n",
              "    <tr>\n",
              "      <th>3</th>\n",
              "      <td>Thursday: Be back home by 11:15 pm at the latest.</td>\n",
              "    </tr>\n",
              "    <tr>\n",
              "      <th>4</th>\n",
              "      <td>Friday: Take the train at 08:10 am, arrive at ...</td>\n",
              "    </tr>\n",
              "  </tbody>\n",
              "</table>\n",
              "</div>"
            ],
            "text/plain": [
              "                                                text\n",
              "0     Monday: The doctor's appointment is at 2:45pm.\n",
              "1  Tuesday: The dentist's appointment is at 11:30...\n",
              "2  Wednesday: At 7:00pm, there is a basketball game!\n",
              "3  Thursday: Be back home by 11:15 pm at the latest.\n",
              "4  Friday: Take the train at 08:10 am, arrive at ..."
            ]
          },
          "metadata": {},
          "execution_count": 54
        }
      ]
    },
    {
      "cell_type": "code",
      "metadata": {
        "id": "3zqGq_H6pJzC"
      },
      "source": [
        "import string\n",
        "#punctuation percent\n",
        "\n",
        "\n"
      ],
      "execution_count": null,
      "outputs": []
    },
    {
      "cell_type": "code",
      "metadata": {
        "id": "z6hcqqcdnL3y"
      },
      "source": [
        "# find the number of tokens for each string in df['text']\n"
      ],
      "execution_count": null,
      "outputs": []
    },
    {
      "cell_type": "code",
      "metadata": {
        "id": "gfNQJ83RnV4W"
      },
      "source": [
        "\n",
        "# find which entries contain the word 'appointment'\n"
      ],
      "execution_count": null,
      "outputs": []
    },
    {
      "cell_type": "code",
      "metadata": {
        "id": "MnRSckmfnaVs"
      },
      "source": [
        "# find how many times a digit occurs in each string\n"
      ],
      "execution_count": null,
      "outputs": []
    },
    {
      "cell_type": "code",
      "metadata": {
        "id": "95Bp7ecMnb5R"
      },
      "source": [
        "\n",
        "# find all occurances of the digits\n"
      ],
      "execution_count": null,
      "outputs": []
    },
    {
      "cell_type": "code",
      "metadata": {
        "id": "0a7uT-rznd-Q"
      },
      "source": [
        "# replace weekdays with '???'\n"
      ],
      "execution_count": null,
      "outputs": []
    },
    {
      "cell_type": "code",
      "metadata": {
        "id": "_cNp5O44ng2b"
      },
      "source": [
        "# replace weekdays with 3 letter abbrevations\n"
      ],
      "execution_count": null,
      "outputs": []
    },
    {
      "cell_type": "code",
      "metadata": {
        "id": "PyfIDF1QnjDC"
      },
      "source": [
        "# create new columns from first match of extracted groups\n"
      ],
      "execution_count": null,
      "outputs": []
    },
    {
      "cell_type": "code",
      "metadata": {
        "id": "eNBXIq3vnk10"
      },
      "source": [
        "# extract the entire time, the hours, the minutes, and the period\n"
      ],
      "execution_count": null,
      "outputs": []
    },
    {
      "cell_type": "code",
      "metadata": {
        "id": "3Qxubnb6nm1G"
      },
      "source": [
        "# extract the entire time, the hours, the minutes, and the period with group names\n"
      ],
      "execution_count": null,
      "outputs": []
    },
    {
      "cell_type": "code",
      "metadata": {
        "id": "dR3EHfs1npIo"
      },
      "source": [
        ""
      ],
      "execution_count": null,
      "outputs": []
    }
  ]
}